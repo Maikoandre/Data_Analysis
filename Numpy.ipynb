{
  "nbformat": 4,
  "nbformat_minor": 0,
  "metadata": {
    "colab": {
      "provenance": [],
      "authorship_tag": "ABX9TyNTVcgr+hD7dd6u5DKbsZ4t"
    },
    "kernelspec": {
      "name": "python3",
      "display_name": "Python 3"
    },
    "language_info": {
      "name": "python"
    }
  },
  "cells": [
    {
      "cell_type": "code",
      "execution_count": null,
      "metadata": {
        "colab": {
          "base_uri": "https://localhost:8080/"
        },
        "id": "XTybXXKKaIzC",
        "outputId": "40e23dca-19ea-4ed7-94d2-00dbe2bfe7b8"
      },
      "outputs": [
        {
          "output_type": "execute_result",
          "data": {
            "text/plain": [
              "array([2, 3, 4, 5])"
            ]
          },
          "metadata": {},
          "execution_count": 49
        }
      ],
      "source": [
        "import numpy as np\n",
        "years_of_esperience = np.array([1,2,3,4])\n",
        "years_of_esperience_plus_one = years_of_esperience + 1\n",
        "years_of_esperience_plus_one"
      ]
    },
    {
      "cell_type": "code",
      "source": [
        "years_of_esperience_minus_one = years_of_esperience - 1\n",
        "years_of_esperience_minus_one"
      ],
      "metadata": {
        "colab": {
          "base_uri": "https://localhost:8080/"
        },
        "id": "21jTXFm5bEuG",
        "outputId": "b9450d09-b81e-4eed-912e-ba2bf2ccd9ab"
      },
      "execution_count": null,
      "outputs": [
        {
          "output_type": "execute_result",
          "data": {
            "text/plain": [
              "array([0, 1, 2, 3])"
            ]
          },
          "metadata": {},
          "execution_count": 50
        }
      ]
    },
    {
      "cell_type": "code",
      "source": [
        "years_of_esperience_half = years_of_esperience / 2\n",
        "years_of_esperience_half"
      ],
      "metadata": {
        "colab": {
          "base_uri": "https://localhost:8080/"
        },
        "id": "AKD_g28Ubzcz",
        "outputId": "dfc15e9d-f8cd-4857-93d7-14b5f4142ce2"
      },
      "execution_count": null,
      "outputs": [
        {
          "output_type": "execute_result",
          "data": {
            "text/plain": [
              "array([0.5, 1. , 1.5, 2. ])"
            ]
          },
          "metadata": {},
          "execution_count": 51
        }
      ]
    },
    {
      "cell_type": "code",
      "source": [
        "years_of_esperience_double = years_of_esperience * 2\n",
        "years_of_esperience_double"
      ],
      "metadata": {
        "colab": {
          "base_uri": "https://localhost:8080/"
        },
        "id": "CD2-LYHcb-AJ",
        "outputId": "c97b76da-4595-41c3-b825-0d73bf0deb62"
      },
      "execution_count": null,
      "outputs": [
        {
          "output_type": "execute_result",
          "data": {
            "text/plain": [
              "array([2, 4, 6, 8])"
            ]
          },
          "metadata": {},
          "execution_count": 52
        }
      ]
    },
    {
      "cell_type": "code",
      "source": [
        "second_and_third_jobs_experience = years_of_esperience[0:3]\n",
        "second_and_third_jobs_experience"
      ],
      "metadata": {
        "colab": {
          "base_uri": "https://localhost:8080/"
        },
        "id": "gslK43GkcZKX",
        "outputId": "5aef7952-3e40-4e62-a600-300ee9221b16"
      },
      "execution_count": null,
      "outputs": [
        {
          "output_type": "execute_result",
          "data": {
            "text/plain": [
              "array([1, 2, 3])"
            ]
          },
          "metadata": {},
          "execution_count": 53
        }
      ]
    },
    {
      "cell_type": "code",
      "source": [
        "jobs_with_more_than_two_years = years_of_esperience[years_of_esperience > 2]\n",
        "jobs_with_more_than_two_years"
      ],
      "metadata": {
        "colab": {
          "base_uri": "https://localhost:8080/"
        },
        "id": "4FfHIsMIc5C-",
        "outputId": "d7e5b47d-521c-419e-c899-286419300dec"
      },
      "execution_count": null,
      "outputs": [
        {
          "output_type": "execute_result",
          "data": {
            "text/plain": [
              "array([3, 4])"
            ]
          },
          "metadata": {},
          "execution_count": 54
        }
      ]
    },
    {
      "cell_type": "code",
      "source": [
        "import random"
      ],
      "metadata": {
        "id": "yL0ic7H3dLuT"
      },
      "execution_count": null,
      "outputs": []
    },
    {
      "cell_type": "code",
      "source": [
        "salary = [random.randint(100000, 150000) for num in range(10)]"
      ],
      "metadata": {
        "id": "nGeAi2DedPFB"
      },
      "execution_count": null,
      "outputs": []
    },
    {
      "cell_type": "code",
      "source": [
        "salary"
      ],
      "metadata": {
        "colab": {
          "base_uri": "https://localhost:8080/"
        },
        "id": "CgQvnyWjddQ3",
        "outputId": "252f5ac3-4fe1-4a9a-881d-6eac6f2d66d5"
      },
      "execution_count": null,
      "outputs": [
        {
          "output_type": "execute_result",
          "data": {
            "text/plain": [
              "[140796,\n",
              " 133102,\n",
              " 127070,\n",
              " 133818,\n",
              " 133631,\n",
              " 141482,\n",
              " 125782,\n",
              " 144351,\n",
              " 110928,\n",
              " 148251]"
            ]
          },
          "metadata": {},
          "execution_count": 57
        }
      ]
    },
    {
      "cell_type": "code",
      "source": [
        "salary_array = np.array(salary)\n",
        "salary_array"
      ],
      "metadata": {
        "colab": {
          "base_uri": "https://localhost:8080/"
        },
        "id": "7ATpXLqsd1CF",
        "outputId": "42287887-e365-4cec-c03d-3af3e65281d1"
      },
      "execution_count": null,
      "outputs": [
        {
          "output_type": "execute_result",
          "data": {
            "text/plain": [
              "array([140796, 133102, 127070, 133818, 133631, 141482, 125782, 144351,\n",
              "       110928, 148251])"
            ]
          },
          "metadata": {},
          "execution_count": 58
        }
      ]
    },
    {
      "cell_type": "code",
      "source": [
        "total_sum_salaries = np.sum(salary_array)\n",
        "total_sum_salaries"
      ],
      "metadata": {
        "colab": {
          "base_uri": "https://localhost:8080/"
        },
        "id": "FBkcdvfude3-",
        "outputId": "dac83ce5-a297-4a9f-9328-d6867896448a"
      },
      "execution_count": null,
      "outputs": [
        {
          "output_type": "execute_result",
          "data": {
            "text/plain": [
              "1339211"
            ]
          },
          "metadata": {},
          "execution_count": 59
        }
      ]
    },
    {
      "cell_type": "code",
      "source": [
        "product_salaries = np.prod(salary_array)\n",
        "product_salaries"
      ],
      "metadata": {
        "colab": {
          "base_uri": "https://localhost:8080/"
        },
        "id": "tV4L25EqeJ06",
        "outputId": "7bef4ebb-bdb6-48ed-a397-225f87b1aa0a"
      },
      "execution_count": null,
      "outputs": [
        {
          "output_type": "execute_result",
          "data": {
            "text/plain": [
              "-92486958430398464"
            ]
          },
          "metadata": {},
          "execution_count": 60
        }
      ]
    },
    {
      "cell_type": "code",
      "source": [
        "cumsum_salaries = np.cumsum(salary_array)\n",
        "cumsum_salaries"
      ],
      "metadata": {
        "colab": {
          "base_uri": "https://localhost:8080/"
        },
        "id": "0vMLpaaMeZ3a",
        "outputId": "71895a2d-298c-4959-e06b-7a6c7569d423"
      },
      "execution_count": null,
      "outputs": [
        {
          "output_type": "execute_result",
          "data": {
            "text/plain": [
              "array([ 140796,  273898,  400968,  534786,  668417,  809899,  935681,\n",
              "       1080032, 1190960, 1339211])"
            ]
          },
          "metadata": {},
          "execution_count": 61
        }
      ]
    },
    {
      "cell_type": "code",
      "source": [
        "cumprod_salaries = np.cumprod(salary_array)\n",
        "cumprod_salaries"
      ],
      "metadata": {
        "colab": {
          "base_uri": "https://localhost:8080/"
        },
        "id": "YHctwbc0fKsr",
        "outputId": "5a439b1e-8dcb-4177-9c52-95609e3679d1"
      },
      "execution_count": null,
      "outputs": [
        {
          "output_type": "execute_result",
          "data": {
            "text/plain": [
              "array([              140796,          18740229192,     2381320923427440,\n",
              "        5068954078150788448,  4960030753275755168,  4032982901630103104,\n",
              "       -8806694175040812672,  2256978377399600768,  2886879796879460352,\n",
              "         -92486958430398464])"
            ]
          },
          "metadata": {},
          "execution_count": 62
        }
      ]
    },
    {
      "cell_type": "code",
      "source": [
        "avarage_salary = np.mean(salary_array)\n",
        "avarage_salary"
      ],
      "metadata": {
        "colab": {
          "base_uri": "https://localhost:8080/"
        },
        "id": "X-v_ssmBfTIv",
        "outputId": "c4fd19dd-1185-4e09-ac03-8d19f71933b6"
      },
      "execution_count": null,
      "outputs": [
        {
          "output_type": "execute_result",
          "data": {
            "text/plain": [
              "133921.1"
            ]
          },
          "metadata": {},
          "execution_count": 63
        }
      ]
    },
    {
      "cell_type": "code",
      "source": [
        "median_salary = np.median(salary_array)\n",
        "median_salary"
      ],
      "metadata": {
        "colab": {
          "base_uri": "https://localhost:8080/"
        },
        "id": "B8zEVI1kfzCI",
        "outputId": "7a7b0471-9ca2-41a8-c59c-2e9441fde54f"
      },
      "execution_count": null,
      "outputs": [
        {
          "output_type": "execute_result",
          "data": {
            "text/plain": [
              "133724.5"
            ]
          },
          "metadata": {},
          "execution_count": 64
        }
      ]
    },
    {
      "cell_type": "code",
      "source": [
        "salary_variance = np.var(salary_array)\n",
        "salary_variance"
      ],
      "metadata": {
        "colab": {
          "base_uri": "https://localhost:8080/"
        },
        "id": "pEQZtFo5f684",
        "outputId": "3657f4c4-08b9-40dc-cf9b-3168419edc8e"
      },
      "execution_count": null,
      "outputs": [
        {
          "output_type": "execute_result",
          "data": {
            "text/plain": [
              "106119118.69"
            ]
          },
          "metadata": {},
          "execution_count": 65
        }
      ]
    },
    {
      "cell_type": "code",
      "source": [
        "salary_std_dev = np.std(salary_array, ddof=1)\n",
        "salary_std_dev"
      ],
      "metadata": {
        "colab": {
          "base_uri": "https://localhost:8080/"
        },
        "id": "O0F-FD1HgHuu",
        "outputId": "a526d405-b12f-433d-b63b-64ccf93a5cb3"
      },
      "execution_count": null,
      "outputs": [
        {
          "output_type": "execute_result",
          "data": {
            "text/plain": [
              "10858.64318769973"
            ]
          },
          "metadata": {},
          "execution_count": 66
        }
      ]
    },
    {
      "cell_type": "code",
      "source": [
        "min_salary = np.min(salary_array)\n",
        "min_salary"
      ],
      "metadata": {
        "colab": {
          "base_uri": "https://localhost:8080/"
        },
        "id": "J6W2G_3pgcRg",
        "outputId": "74a114af-bbfb-42a1-dc4b-d43404f771b4"
      },
      "execution_count": null,
      "outputs": [
        {
          "output_type": "execute_result",
          "data": {
            "text/plain": [
              "110928"
            ]
          },
          "metadata": {},
          "execution_count": 67
        }
      ]
    },
    {
      "cell_type": "code",
      "source": [
        "max_salary = np.max(salary_array)\n",
        "max_salary"
      ],
      "metadata": {
        "colab": {
          "base_uri": "https://localhost:8080/"
        },
        "id": "_DmpzjnugkEM",
        "outputId": "dbe0a6f2-71f2-462a-f3ab-cf67cf0cbef7"
      },
      "execution_count": null,
      "outputs": [
        {
          "output_type": "execute_result",
          "data": {
            "text/plain": [
              "148251"
            ]
          },
          "metadata": {},
          "execution_count": 68
        }
      ]
    },
    {
      "cell_type": "code",
      "source": [
        "salary_with_nan = np.array([123124, np.nan, 145000, 128000, 110000, 149999, np.nan, 135000, 115000, 140000], dtype=float)\n",
        "salary_with_nan"
      ],
      "metadata": {
        "colab": {
          "base_uri": "https://localhost:8080/"
        },
        "id": "crrwQLShgt5U",
        "outputId": "fc2d4696-3cbc-4db3-b586-1c947face27c"
      },
      "execution_count": null,
      "outputs": [
        {
          "output_type": "execute_result",
          "data": {
            "text/plain": [
              "array([123124.,     nan, 145000., 128000., 110000., 149999.,     nan,\n",
              "       135000., 115000., 140000.])"
            ]
          },
          "metadata": {},
          "execution_count": 69
        }
      ]
    },
    {
      "cell_type": "code",
      "source": [
        "salary_with_nan[salary_with_nan > 130000] = np.nan\n",
        "salary_with_nan"
      ],
      "metadata": {
        "colab": {
          "base_uri": "https://localhost:8080/"
        },
        "id": "tJZyRUjohDuQ",
        "outputId": "713c03b0-5cf6-41b5-e0f0-25d44c21f7f0"
      },
      "execution_count": null,
      "outputs": [
        {
          "output_type": "execute_result",
          "data": {
            "text/plain": [
              "array([123124.,     nan,     nan, 128000., 110000.,     nan,     nan,\n",
              "           nan, 115000.,     nan])"
            ]
          },
          "metadata": {},
          "execution_count": 70
        }
      ]
    },
    {
      "cell_type": "code",
      "source": [],
      "metadata": {
        "id": "57XqvGl_jBAo"
      },
      "execution_count": null,
      "outputs": []
    },
    {
      "cell_type": "code",
      "source": [
        "salary_array = np.where(salary_array < 120000, 120000, salary_array)\n",
        "salary_array"
      ],
      "metadata": {
        "colab": {
          "base_uri": "https://localhost:8080/"
        },
        "id": "-9xYbTtthQN9",
        "outputId": "d7641cb4-c33f-4fa9-ffdd-b5c55ec6c5bf"
      },
      "execution_count": null,
      "outputs": [
        {
          "output_type": "execute_result",
          "data": {
            "text/plain": [
              "array([140796, 133102, 127070, 133818, 133631, 141482, 125782, 144351,\n",
              "       120000, 148251])"
            ]
          },
          "metadata": {},
          "execution_count": 71
        }
      ]
    }
  ]
}